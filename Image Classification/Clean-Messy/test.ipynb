{
 "cells": [
  {
   "cell_type": "code",
   "execution_count": 2,
   "metadata": {},
   "outputs": [
    {
     "name": "stdout",
     "output_type": "stream",
     "text": [
      "\n",
      "0: 256x256 clean 1.00, messy 0.00, 17.6ms\n",
      "Speed: 12.6ms preprocess, 17.6ms inference, 0.0ms postprocess per image at shape (1, 3, 256, 256)\n"
     ]
    }
   ],
   "source": [
    "from ultralytics import YOLO\n",
    "import cv2\n",
    "\n",
    "model = YOLO(\"/Users/tirthpatel/Desktop/Computer Vision/Image Classification/Clean-Messy/yolo logs/train2/weights/best.pt\")\n",
    "img = cv2.imread(\"/Users/tirthpatel/Desktop/Computer Vision/Image Classification/Clean-Messy/data/train/clean/0.png\")\n",
    "\n",
    "results = model(img)\n"
   ]
  },
  {
   "cell_type": "code",
   "execution_count": 3,
   "metadata": {},
   "outputs": [
    {
     "data": {
      "text/plain": [
       "{0: 'clean', 1: 'messy'}"
      ]
     },
     "execution_count": 3,
     "metadata": {},
     "output_type": "execute_result"
    }
   ],
   "source": [
    "model.names"
   ]
  },
  {
   "cell_type": "code",
   "execution_count": 22,
   "metadata": {},
   "outputs": [
    {
     "name": "stdout",
     "output_type": "stream",
     "text": [
      "ultralytics.engine.results.Probs object with attributes:\n",
      "\n",
      "data: tensor([1.0000e+00, 1.2240e-09])\n",
      "orig_shape: None\n",
      "shape: torch.Size([2])\n",
      "top1: 0\n",
      "top1conf: tensor(1.)\n",
      "top5: [0, 1]\n",
      "top5conf: tensor([1.0000e+00, 1.2240e-09])\n",
      "0\n",
      "1.0\n"
     ]
    }
   ],
   "source": [
    "print(results[0].probs)\n",
    "print(results[0].probs.top1)\n",
    "print(round(float(results[0].probs.top1conf),2))"
   ]
  }
 ],
 "metadata": {
  "kernelspec": {
   "display_name": ".venv",
   "language": "python",
   "name": "python3"
  },
  "language_info": {
   "codemirror_mode": {
    "name": "ipython",
    "version": 3
   },
   "file_extension": ".py",
   "mimetype": "text/x-python",
   "name": "python",
   "nbconvert_exporter": "python",
   "pygments_lexer": "ipython3",
   "version": "3.12.4"
  }
 },
 "nbformat": 4,
 "nbformat_minor": 2
}
